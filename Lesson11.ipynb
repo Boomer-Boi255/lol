{
  "nbformat": 4,
  "nbformat_minor": 0,
  "metadata": {
    "colab": {
      "name": "Lesson11.ipynb",
      "provenance": [],
      "authorship_tag": "ABX9TyPb7zZj8/xukx2x8YuX1tvR",
      "include_colab_link": true
    },
    "kernelspec": {
      "name": "python3",
      "display_name": "Python 3"
    },
    "language_info": {
      "name": "python"
    }
  },
  "cells": [
    {
      "cell_type": "markdown",
      "metadata": {
        "id": "view-in-github",
        "colab_type": "text"
      },
      "source": [
        "<a href=\"https://colab.research.google.com/github/Boomer-Boi255/lol/blob/main/Lesson11.ipynb\" target=\"_parent\"><img src=\"https://colab.research.google.com/assets/colab-badge.svg\" alt=\"Open In Colab\"/></a>"
      ]
    },
    {
      "cell_type": "code",
      "metadata": {
        "colab": {
          "base_uri": "https://localhost:8080/"
        },
        "id": "ydWCG5eh9WIK",
        "outputId": "1c0ea05a-aaab-4fea-f423-e3a87daa5e4b"
      },
      "source": [
        "print(\"Hello\")\n",
        "print(\"Suuuuup\")"
      ],
      "execution_count": null,
      "outputs": [
        {
          "output_type": "stream",
          "text": [
            "Hello\n",
            "Suuuuup\n"
          ],
          "name": "stdout"
        }
      ]
    },
    {
      "cell_type": "markdown",
      "metadata": {
        "id": "PfHS6D8e_Xxj"
      },
      "source": [
        "thas pretty sus"
      ]
    },
    {
      "cell_type": "code",
      "metadata": {
        "colab": {
          "base_uri": "https://localhost:8080/",
          "height": 215
        },
        "id": "G-Pp7HsU_P0t",
        "outputId": "b6629875-8598-4d93-f32e-cd4ff38f50d2"
      },
      "source": [
        "print('code bloc')\n",
        "ur=int(input(\"Lol\"))"
      ],
      "execution_count": null,
      "outputs": [
        {
          "output_type": "stream",
          "text": [
            "code bloc\n",
            "Lolhi\n"
          ],
          "name": "stdout"
        },
        {
          "output_type": "error",
          "ename": "ValueError",
          "evalue": "ignored",
          "traceback": [
            "\u001b[0;31m---------------------------------------------------------------------------\u001b[0m",
            "\u001b[0;31mValueError\u001b[0m                                Traceback (most recent call last)",
            "\u001b[0;32m<ipython-input-7-9342c20f417f>\u001b[0m in \u001b[0;36m<module>\u001b[0;34m()\u001b[0m\n\u001b[1;32m      1\u001b[0m \u001b[0mprint\u001b[0m\u001b[0;34m(\u001b[0m\u001b[0;34m'code bloc'\u001b[0m\u001b[0;34m)\u001b[0m\u001b[0;34m\u001b[0m\u001b[0;34m\u001b[0m\u001b[0m\n\u001b[0;32m----> 2\u001b[0;31m \u001b[0mur\u001b[0m\u001b[0;34m=\u001b[0m\u001b[0mint\u001b[0m\u001b[0;34m(\u001b[0m\u001b[0minput\u001b[0m\u001b[0;34m(\u001b[0m\u001b[0;34m\"Lol\"\u001b[0m\u001b[0;34m)\u001b[0m\u001b[0;34m)\u001b[0m\u001b[0;34m\u001b[0m\u001b[0;34m\u001b[0m\u001b[0m\n\u001b[0m",
            "\u001b[0;31mValueError\u001b[0m: invalid literal for int() with base 10: 'hi'"
          ]
        }
      ]
    },
    {
      "cell_type": "code",
      "metadata": {
        "colab": {
          "base_uri": "https://localhost:8080/"
        },
        "id": "oMiLANwV_R4K",
        "outputId": "de643743-8758-4a50-aa4e-7f39e809a2b4"
      },
      "source": [
        "print('thik and chuncky')"
      ],
      "execution_count": null,
      "outputs": [
        {
          "output_type": "stream",
          "text": [
            "thik and chuncky\n"
          ],
          "name": "stdout"
        }
      ]
    },
    {
      "cell_type": "code",
      "metadata": {
        "id": "ADPUnWgKBWl8",
        "colab": {
          "base_uri": "https://localhost:8080/"
        },
        "outputId": "e10cc2ea-db4d-4e05-c8d8-79d9508c6741"
      },
      "source": [
        "import requests\n",
        "import json\n",
        "params = {\"earth_date\":\"2016-10-17\", \"api_key\":\"DEMO_KEY\"} \n",
        "f = r\"https://api.nasa.gov/mars-photos/api/v1/rovers/curiosity/photos?\"\n",
        "\n",
        "data=requests.get(f, params=params)\n",
        "image_data=json.loads(data.text)\n",
        "print(len(image_data[\"photos\"]))\n",
        "for i in image_data[\"photos\"]:\n",
        "  print(i, \"\\n\\n\\n\")\n",
        "  url= i[\"img_src\"]\n",
        "  print(url)\n",
        "  yesno=input(\"Do you want to continue? \n",
        "  \n",
        "  \n",
        "  \n",
        "  \n",
        "  \n",
        "  \")\n",
        "  if yesno==\"no\":\n",
        "    break"
      ],
      "execution_count": null,
      "outputs": [
        {
          "output_type": "stream",
          "text": [
            "435\n",
            "{'id': 591702, 'sol': 1492, 'camera': {'id': 20, 'name': 'FHAZ', 'rover_id': 5, 'full_name': 'Front Hazard Avoidance Camera'}, 'img_src': 'http://mars.jpl.nasa.gov/msl-raw-images/proj/msl/redops/ods/surface/sol/01492/opgs/edr/fcam/FLB_529940530EDR_F0582046FHAZ00337M_.JPG', 'earth_date': '2016-10-17', 'rover': {'id': 5, 'name': 'Curiosity', 'landing_date': '2012-08-06', 'launch_date': '2011-11-26', 'status': 'active'}} \n",
            "\n",
            "\n",
            "\n",
            "http://mars.jpl.nasa.gov/msl-raw-images/proj/msl/redops/ods/surface/sol/01492/opgs/edr/fcam/FLB_529940530EDR_F0582046FHAZ00337M_.JPG\n",
            "Do you want to continue? yes\n",
            "{'id': 591703, 'sol': 1492, 'camera': {'id': 20, 'name': 'FHAZ', 'rover_id': 5, 'full_name': 'Front Hazard Avoidance Camera'}, 'img_src': 'http://mars.jpl.nasa.gov/msl-raw-images/proj/msl/redops/ods/surface/sol/01492/opgs/edr/fcam/FRB_529940530EDR_F0582046FHAZ00337M_.JPG', 'earth_date': '2016-10-17', 'rover': {'id': 5, 'name': 'Curiosity', 'landing_date': '2012-08-06', 'launch_date': '2011-11-26', 'status': 'active'}} \n",
            "\n",
            "\n",
            "\n",
            "http://mars.jpl.nasa.gov/msl-raw-images/proj/msl/redops/ods/surface/sol/01492/opgs/edr/fcam/FRB_529940530EDR_F0582046FHAZ00337M_.JPG\n",
            "Do you want to continue? yes\n",
            "{'id': 591704, 'sol': 1492, 'camera': {'id': 20, 'name': 'FHAZ', 'rover_id': 5, 'full_name': 'Front Hazard Avoidance Camera'}, 'img_src': 'http://mars.jpl.nasa.gov/msl-raw-images/proj/msl/redops/ods/surface/sol/01492/opgs/edr/fcam/FLB_529940227EDR_F0582046FHAZ00206M_.JPG', 'earth_date': '2016-10-17', 'rover': {'id': 5, 'name': 'Curiosity', 'landing_date': '2012-08-06', 'launch_date': '2011-11-26', 'status': 'active'}} \n",
            "\n",
            "\n",
            "\n",
            "http://mars.jpl.nasa.gov/msl-raw-images/proj/msl/redops/ods/surface/sol/01492/opgs/edr/fcam/FLB_529940227EDR_F0582046FHAZ00206M_.JPG\n",
            "Do you want to continue? yes\n",
            "{'id': 591705, 'sol': 1492, 'camera': {'id': 20, 'name': 'FHAZ', 'rover_id': 5, 'full_name': 'Front Hazard Avoidance Camera'}, 'img_src': 'http://mars.jpl.nasa.gov/msl-raw-images/proj/msl/redops/ods/surface/sol/01492/opgs/edr/fcam/FRB_529940227EDR_F0582046FHAZ00206M_.JPG', 'earth_date': '2016-10-17', 'rover': {'id': 5, 'name': 'Curiosity', 'landing_date': '2012-08-06', 'launch_date': '2011-11-26', 'status': 'active'}} \n",
            "\n",
            "\n",
            "\n",
            "http://mars.jpl.nasa.gov/msl-raw-images/proj/msl/redops/ods/surface/sol/01492/opgs/edr/fcam/FRB_529940227EDR_F0582046FHAZ00206M_.JPG\n",
            "Do you want to continue? yes\n",
            "{'id': 591796, 'sol': 1492, 'camera': {'id': 21, 'name': 'RHAZ', 'rover_id': 5, 'full_name': 'Rear Hazard Avoidance Camera'}, 'img_src': 'http://mars.jpl.nasa.gov/msl-raw-images/proj/msl/redops/ods/surface/sol/01492/opgs/edr/rcam/RLB_529940564EDR_F0582046RHAZ00337M_.JPG', 'earth_date': '2016-10-17', 'rover': {'id': 5, 'name': 'Curiosity', 'landing_date': '2012-08-06', 'launch_date': '2011-11-26', 'status': 'active'}} \n",
            "\n",
            "\n",
            "\n",
            "http://mars.jpl.nasa.gov/msl-raw-images/proj/msl/redops/ods/surface/sol/01492/opgs/edr/rcam/RLB_529940564EDR_F0582046RHAZ00337M_.JPG\n",
            "Do you want to continue? \n",
            "{'id': 591797, 'sol': 1492, 'camera': {'id': 21, 'name': 'RHAZ', 'rover_id': 5, 'full_name': 'Rear Hazard Avoidance Camera'}, 'img_src': 'http://mars.jpl.nasa.gov/msl-raw-images/proj/msl/redops/ods/surface/sol/01492/opgs/edr/rcam/RRB_529940564EDR_F0582046RHAZ00337M_.JPG', 'earth_date': '2016-10-17', 'rover': {'id': 5, 'name': 'Curiosity', 'landing_date': '2012-08-06', 'launch_date': '2011-11-26', 'status': 'active'}} \n",
            "\n",
            "\n",
            "\n",
            "http://mars.jpl.nasa.gov/msl-raw-images/proj/msl/redops/ods/surface/sol/01492/opgs/edr/rcam/RRB_529940564EDR_F0582046RHAZ00337M_.JPG\n",
            "Do you want to continue? \n",
            "{'id': 592224, 'sol': 1492, 'camera': {'id': 22, 'name': 'MAST', 'rover_id': 5, 'full_name': 'Mast Camera'}, 'img_src': 'http://mars.jpl.nasa.gov/msl-raw-images/msss/01492/mcam/1492MR0075130020404257E01_DXXX.jpg', 'earth_date': '2016-10-17', 'rover': {'id': 5, 'name': 'Curiosity', 'landing_date': '2012-08-06', 'launch_date': '2011-11-26', 'status': 'active'}} \n",
            "\n",
            "\n",
            "\n",
            "http://mars.jpl.nasa.gov/msl-raw-images/msss/01492/mcam/1492MR0075130020404257E01_DXXX.jpg\n",
            "Do you want to continue? \n",
            "{'id': 592225, 'sol': 1492, 'camera': {'id': 22, 'name': 'MAST', 'rover_id': 5, 'full_name': 'Mast Camera'}, 'img_src': 'http://mars.jpl.nasa.gov/msl-raw-images/msss/01492/mcam/1492MR0075130010404256E01_DXXX.jpg', 'earth_date': '2016-10-17', 'rover': {'id': 5, 'name': 'Curiosity', 'landing_date': '2012-08-06', 'launch_date': '2011-11-26', 'status': 'active'}} \n",
            "\n",
            "\n",
            "\n",
            "http://mars.jpl.nasa.gov/msl-raw-images/msss/01492/mcam/1492MR0075130010404256E01_DXXX.jpg\n",
            "Do you want to continue? \n",
            "{'id': 592226, 'sol': 1492, 'camera': {'id': 22, 'name': 'MAST', 'rover_id': 5, 'full_name': 'Mast Camera'}, 'img_src': 'http://mars.jpl.nasa.gov/msl-raw-images/msss/01492/mcam/1492MR0075130000404255E01_DXXX.jpg', 'earth_date': '2016-10-17', 'rover': {'id': 5, 'name': 'Curiosity', 'landing_date': '2012-08-06', 'launch_date': '2011-11-26', 'status': 'active'}} \n",
            "\n",
            "\n",
            "\n",
            "http://mars.jpl.nasa.gov/msl-raw-images/msss/01492/mcam/1492MR0075130000404255E01_DXXX.jpg\n",
            "Do you want to continue? \n",
            "{'id': 592227, 'sol': 1492, 'camera': {'id': 22, 'name': 'MAST', 'rover_id': 5, 'full_name': 'Mast Camera'}, 'img_src': 'http://mars.jpl.nasa.gov/msl-raw-images/msss/01492/mcam/1492MR0075130020404257I01_DXXX.jpg', 'earth_date': '2016-10-17', 'rover': {'id': 5, 'name': 'Curiosity', 'landing_date': '2012-08-06', 'launch_date': '2011-11-26', 'status': 'active'}} \n",
            "\n",
            "\n",
            "\n",
            "http://mars.jpl.nasa.gov/msl-raw-images/msss/01492/mcam/1492MR0075130020404257I01_DXXX.jpg\n",
            "Do you want to continue? \n",
            "{'id': 592228, 'sol': 1492, 'camera': {'id': 22, 'name': 'MAST', 'rover_id': 5, 'full_name': 'Mast Camera'}, 'img_src': 'http://mars.jpl.nasa.gov/msl-raw-images/msss/01492/mcam/1492MR0075130010404256I01_DXXX.jpg', 'earth_date': '2016-10-17', 'rover': {'id': 5, 'name': 'Curiosity', 'landing_date': '2012-08-06', 'launch_date': '2011-11-26', 'status': 'active'}} \n",
            "\n",
            "\n",
            "\n",
            "http://mars.jpl.nasa.gov/msl-raw-images/msss/01492/mcam/1492MR0075130010404256I01_DXXX.jpg\n"
          ],
          "name": "stdout"
        }
      ]
    }
  ]
}