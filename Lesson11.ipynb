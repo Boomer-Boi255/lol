{
  "nbformat": 4,
  "nbformat_minor": 0,
  "metadata": {
    "colab": {
      "name": "Lesson11.ipynb",
      "provenance": [],
      "authorship_tag": "ABX9TyPx8uR+OJUohjFjTcYfWNod",
      "include_colab_link": true
    },
    "kernelspec": {
      "name": "python3",
      "display_name": "Python 3"
    },
    "language_info": {
      "name": "python"
    }
  },
  "cells": [
    {
      "cell_type": "markdown",
      "metadata": {
        "id": "view-in-github",
        "colab_type": "text"
      },
      "source": [
        "<a href=\"https://colab.research.google.com/github/Boomer-Boi255/lol/blob/main/Lesson11.ipynb\" target=\"_parent\"><img src=\"https://colab.research.google.com/assets/colab-badge.svg\" alt=\"Open In Colab\"/></a>"
      ]
    },
    {
      "cell_type": "code",
      "metadata": {
        "colab": {
          "base_uri": "https://localhost:8080/"
        },
        "id": "ydWCG5eh9WIK",
        "outputId": "1c0ea05a-aaab-4fea-f423-e3a87daa5e4b"
      },
      "source": [
        "print(\"Hello\")\n",
        "print(\"Suuuuup\")"
      ],
      "execution_count": 5,
      "outputs": [
        {
          "output_type": "stream",
          "text": [
            "Hello\n",
            "Suuuuup\n"
          ],
          "name": "stdout"
        }
      ]
    },
    {
      "cell_type": "markdown",
      "metadata": {
        "id": "PfHS6D8e_Xxj"
      },
      "source": [
        "thas pretty sus"
      ]
    },
    {
      "cell_type": "code",
      "metadata": {
        "colab": {
          "base_uri": "https://localhost:8080/"
        },
        "id": "G-Pp7HsU_P0t",
        "outputId": "b6629875-8598-4d93-f32e-cd4ff38f50d2"
      },
      "source": [
        "print('code bloc')\n",
        "ur=int(input(\"Lol\"))"
      ],
      "execution_count": null,
      "outputs": [
        {
          "output_type": "stream",
          "text": [
            "code bloc\n"
          ],
          "name": "stdout"
        }
      ]
    },
    {
      "cell_type": "code",
      "metadata": {
        "colab": {
          "base_uri": "https://localhost:8080/"
        },
        "id": "oMiLANwV_R4K",
        "outputId": "7614001d-f1fd-4610-efc2-bc5ae1b1a32b"
      },
      "source": [
        "print('thik and chuncky')"
      ],
      "execution_count": 6,
      "outputs": [
        {
          "output_type": "stream",
          "text": [
            "thik and chuncky\n"
          ],
          "name": "stdout"
        }
      ]
    }
  ]
}