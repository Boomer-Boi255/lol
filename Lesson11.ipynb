{
  "nbformat": 4,
  "nbformat_minor": 0,
  "metadata": {
    "colab": {
      "name": "Lesson11.ipynb",
      "provenance": [],
      "authorship_tag": "ABX9TyO9Wgphh0Nm5pjU8xHiTiC7",
      "include_colab_link": true
    },
    "kernelspec": {
      "name": "python3",
      "display_name": "Python 3"
    },
    "language_info": {
      "name": "python"
    }
  },
  "cells": [
    {
      "cell_type": "markdown",
      "metadata": {
        "id": "view-in-github",
        "colab_type": "text"
      },
      "source": [
        "<a href=\"https://colab.research.google.com/github/Boomer-Boi255/lol/blob/main/Lesson11.ipynb\" target=\"_parent\"><img src=\"https://colab.research.google.com/assets/colab-badge.svg\" alt=\"Open In Colab\"/></a>"
      ]
    },
    {
      "cell_type": "code",
      "metadata": {
        "colab": {
          "base_uri": "https://localhost:8080/"
        },
        "id": "ydWCG5eh9WIK",
        "outputId": "9bd046dc-91d7-4f71-b884-3eae16519582"
      },
      "source": [
        "print(\"Hello\")\n",
        "print(\"Suuuuup\")"
      ],
      "execution_count": null,
      "outputs": [
        {
          "output_type": "stream",
          "text": [
            "Hello\n"
          ],
          "name": "stdout"
        }
      ]
    },
    {
      "cell_type": "markdown",
      "metadata": {
        "id": "xEH2psG09C2E"
      },
      "source": [
        ""
      ]
    },
    {
      "cell_type": "code",
      "metadata": {
        "id": "y0ATNSC19EDj"
      },
      "source": [
        "n2=0\n",
        "number_list=[]\n",
        "number=int(input(\"How many Tests? \"))\n",
        "number1=number+1\n",
        "for a in range(1, number1):\n",
        " n1=float(input(\"What is how many marks for test \" + str(a) + \": \"))\n",
        " number_list.append(n1)\n",
        " n2=n2+n1\n",
        "average=n2/number\n",
        "print(\"Average: \" + str(average))\n",
        "print(number_list)\n",
        "print(sum(number_list))"
      ],
      "execution_count": null,
      "outputs": []
    },
    {
      "cell_type": "code",
      "metadata": {
        "id": "kuIhFyNs9Gpn",
        "outputId": "784de877-faba-49d6-97d5-22fd85a57703",
        "colab": {
          "base_uri": "https://localhost:8080/"
        }
      },
      "source": [
        "questions=[\"What is your name\", \"How old are you\", \"What school do you go to\"]\n",
        "list1=[]\n",
        "for question in questions:\n",
        "  lol = input(question)\n",
        "  list1.append(lol)\n",
        "print(list1)"
      ],
      "execution_count": 9,
      "outputs": [
        {
          "output_type": "stream",
          "text": [
            "What is your namet\n",
            "How old are yout\n",
            "What school do you go tot\n",
            "['t', 't', 't']\n"
          ],
          "name": "stdout"
        }
      ]
    }
  ]
}